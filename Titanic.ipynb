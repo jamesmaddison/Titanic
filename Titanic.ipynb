{
  "nbformat": 4,
  "nbformat_minor": 0,
  "metadata": {
    "colab": {
      "name": "Titanic.ipynb",
      "provenance": [],
      "collapsed_sections": [],
      "authorship_tag": "ABX9TyMXJF6VFKFFfQxkJFXi1vCl",
      "include_colab_link": true
    },
    "kernelspec": {
      "name": "python3",
      "display_name": "Python 3"
    },
    "language_info": {
      "name": "python"
    }
  },
  "cells": [
    {
      "cell_type": "markdown",
      "metadata": {
        "id": "view-in-github",
        "colab_type": "text"
      },
      "source": [
        "<a href=\"https://colab.research.google.com/github/jamesmaddison/Titanic/blob/main/Titanic.ipynb\" target=\"_parent\"><img src=\"https://colab.research.google.com/assets/colab-badge.svg\" alt=\"Open In Colab\"/></a>"
      ]
    },
    {
      "cell_type": "markdown",
      "metadata": {
        "id": "FAUjxXwDhP_P"
      },
      "source": [
        "# Titanic Survival Prediction "
      ]
    },
    {
      "cell_type": "markdown",
      "metadata": {
        "id": "2574n2GymdDV"
      },
      "source": [
        "This is my attempt at the Titanic Kaggle competition. The goal is to predict if a passenger survived the titanic disaster based on the data avaiable"
      ]
    },
    {
      "cell_type": "code",
      "metadata": {
        "id": "aY3_Y0eyhwQv"
      },
      "source": [
        "import numpy as np\n",
        "import sklearn\n",
        "import pandas as pd\n",
        "import matplotlib.pyplot as plt\n",
        "import seaborn as sns\n",
        "\n",
        "import math\n",
        "%matplotlib inline\n",
        "\n",
        "from sklearn import naive_bayes\n",
        "\n",
        "from sklearn.ensemble import (RandomForestClassifier, AdaBoostClassifier, GradientBoostingClassifier, ExtraTreesClassifier) "
      ],
      "execution_count": 90,
      "outputs": []
    },
    {
      "cell_type": "code",
      "metadata": {
        "id": "9rkj0usvoK6Q"
      },
      "source": [
        "df_test = pd.read_csv('Data/test.csv')\n",
        "df_train = pd.read_csv('Data/train.csv')"
      ],
      "execution_count": 91,
      "outputs": []
    },
    {
      "cell_type": "markdown",
      "metadata": {
        "id": "_gWZfPYHhwmk"
      },
      "source": [
        "#Data Exploration"
      ]
    },
    {
      "cell_type": "code",
      "metadata": {
        "colab": {
          "base_uri": "https://localhost:8080/",
          "height": 315
        },
        "id": "6tzZpT9ah5Mn",
        "outputId": "73306058-9038-4ee5-f1dc-aaf3fa59bc4a"
      },
      "source": [
        "df_train.head(3)"
      ],
      "execution_count": 92,
      "outputs": [
        {
          "output_type": "execute_result",
          "data": {
            "text/html": [
              "<div>\n",
              "<style scoped>\n",
              "    .dataframe tbody tr th:only-of-type {\n",
              "        vertical-align: middle;\n",
              "    }\n",
              "\n",
              "    .dataframe tbody tr th {\n",
              "        vertical-align: top;\n",
              "    }\n",
              "\n",
              "    .dataframe thead th {\n",
              "        text-align: right;\n",
              "    }\n",
              "</style>\n",
              "<table border=\"1\" class=\"dataframe\">\n",
              "  <thead>\n",
              "    <tr style=\"text-align: right;\">\n",
              "      <th></th>\n",
              "      <th>PassengerId</th>\n",
              "      <th>Survived</th>\n",
              "      <th>Pclass</th>\n",
              "      <th>Name</th>\n",
              "      <th>Sex</th>\n",
              "      <th>Age</th>\n",
              "      <th>SibSp</th>\n",
              "      <th>Parch</th>\n",
              "      <th>Ticket</th>\n",
              "      <th>Fare</th>\n",
              "      <th>Cabin</th>\n",
              "      <th>Embarked</th>\n",
              "    </tr>\n",
              "  </thead>\n",
              "  <tbody>\n",
              "    <tr>\n",
              "      <th>0</th>\n",
              "      <td>1</td>\n",
              "      <td>0</td>\n",
              "      <td>3</td>\n",
              "      <td>Braund, Mr. Owen Harris</td>\n",
              "      <td>male</td>\n",
              "      <td>22.0</td>\n",
              "      <td>1</td>\n",
              "      <td>0</td>\n",
              "      <td>A/5 21171</td>\n",
              "      <td>7.2500</td>\n",
              "      <td>NaN</td>\n",
              "      <td>S</td>\n",
              "    </tr>\n",
              "    <tr>\n",
              "      <th>1</th>\n",
              "      <td>2</td>\n",
              "      <td>1</td>\n",
              "      <td>1</td>\n",
              "      <td>Cumings, Mrs. John Bradley (Florence Briggs Th...</td>\n",
              "      <td>female</td>\n",
              "      <td>38.0</td>\n",
              "      <td>1</td>\n",
              "      <td>0</td>\n",
              "      <td>PC 17599</td>\n",
              "      <td>71.2833</td>\n",
              "      <td>C85</td>\n",
              "      <td>C</td>\n",
              "    </tr>\n",
              "    <tr>\n",
              "      <th>2</th>\n",
              "      <td>3</td>\n",
              "      <td>1</td>\n",
              "      <td>3</td>\n",
              "      <td>Heikkinen, Miss. Laina</td>\n",
              "      <td>female</td>\n",
              "      <td>26.0</td>\n",
              "      <td>0</td>\n",
              "      <td>0</td>\n",
              "      <td>STON/O2. 3101282</td>\n",
              "      <td>7.9250</td>\n",
              "      <td>NaN</td>\n",
              "      <td>S</td>\n",
              "    </tr>\n",
              "  </tbody>\n",
              "</table>\n",
              "</div>"
            ],
            "text/plain": [
              "   PassengerId  Survived  Pclass  ...     Fare Cabin  Embarked\n",
              "0            1         0       3  ...   7.2500   NaN         S\n",
              "1            2         1       1  ...  71.2833   C85         C\n",
              "2            3         1       3  ...   7.9250   NaN         S\n",
              "\n",
              "[3 rows x 12 columns]"
            ]
          },
          "metadata": {},
          "execution_count": 92
        }
      ]
    },
    {
      "cell_type": "code",
      "metadata": {
        "colab": {
          "base_uri": "https://localhost:8080/",
          "height": 297
        },
        "id": "fCGEbV_-h6_a",
        "outputId": "6852d1ed-bc6a-4b52-a930-7463aa526b6b"
      },
      "source": [
        "df_train.describe()"
      ],
      "execution_count": 93,
      "outputs": [
        {
          "output_type": "execute_result",
          "data": {
            "text/html": [
              "<div>\n",
              "<style scoped>\n",
              "    .dataframe tbody tr th:only-of-type {\n",
              "        vertical-align: middle;\n",
              "    }\n",
              "\n",
              "    .dataframe tbody tr th {\n",
              "        vertical-align: top;\n",
              "    }\n",
              "\n",
              "    .dataframe thead th {\n",
              "        text-align: right;\n",
              "    }\n",
              "</style>\n",
              "<table border=\"1\" class=\"dataframe\">\n",
              "  <thead>\n",
              "    <tr style=\"text-align: right;\">\n",
              "      <th></th>\n",
              "      <th>PassengerId</th>\n",
              "      <th>Survived</th>\n",
              "      <th>Pclass</th>\n",
              "      <th>Age</th>\n",
              "      <th>SibSp</th>\n",
              "      <th>Parch</th>\n",
              "      <th>Fare</th>\n",
              "    </tr>\n",
              "  </thead>\n",
              "  <tbody>\n",
              "    <tr>\n",
              "      <th>count</th>\n",
              "      <td>891.000000</td>\n",
              "      <td>891.000000</td>\n",
              "      <td>891.000000</td>\n",
              "      <td>714.000000</td>\n",
              "      <td>891.000000</td>\n",
              "      <td>891.000000</td>\n",
              "      <td>891.000000</td>\n",
              "    </tr>\n",
              "    <tr>\n",
              "      <th>mean</th>\n",
              "      <td>446.000000</td>\n",
              "      <td>0.383838</td>\n",
              "      <td>2.308642</td>\n",
              "      <td>29.699118</td>\n",
              "      <td>0.523008</td>\n",
              "      <td>0.381594</td>\n",
              "      <td>32.204208</td>\n",
              "    </tr>\n",
              "    <tr>\n",
              "      <th>std</th>\n",
              "      <td>257.353842</td>\n",
              "      <td>0.486592</td>\n",
              "      <td>0.836071</td>\n",
              "      <td>14.526497</td>\n",
              "      <td>1.102743</td>\n",
              "      <td>0.806057</td>\n",
              "      <td>49.693429</td>\n",
              "    </tr>\n",
              "    <tr>\n",
              "      <th>min</th>\n",
              "      <td>1.000000</td>\n",
              "      <td>0.000000</td>\n",
              "      <td>1.000000</td>\n",
              "      <td>0.420000</td>\n",
              "      <td>0.000000</td>\n",
              "      <td>0.000000</td>\n",
              "      <td>0.000000</td>\n",
              "    </tr>\n",
              "    <tr>\n",
              "      <th>25%</th>\n",
              "      <td>223.500000</td>\n",
              "      <td>0.000000</td>\n",
              "      <td>2.000000</td>\n",
              "      <td>20.125000</td>\n",
              "      <td>0.000000</td>\n",
              "      <td>0.000000</td>\n",
              "      <td>7.910400</td>\n",
              "    </tr>\n",
              "    <tr>\n",
              "      <th>50%</th>\n",
              "      <td>446.000000</td>\n",
              "      <td>0.000000</td>\n",
              "      <td>3.000000</td>\n",
              "      <td>28.000000</td>\n",
              "      <td>0.000000</td>\n",
              "      <td>0.000000</td>\n",
              "      <td>14.454200</td>\n",
              "    </tr>\n",
              "    <tr>\n",
              "      <th>75%</th>\n",
              "      <td>668.500000</td>\n",
              "      <td>1.000000</td>\n",
              "      <td>3.000000</td>\n",
              "      <td>38.000000</td>\n",
              "      <td>1.000000</td>\n",
              "      <td>0.000000</td>\n",
              "      <td>31.000000</td>\n",
              "    </tr>\n",
              "    <tr>\n",
              "      <th>max</th>\n",
              "      <td>891.000000</td>\n",
              "      <td>1.000000</td>\n",
              "      <td>3.000000</td>\n",
              "      <td>80.000000</td>\n",
              "      <td>8.000000</td>\n",
              "      <td>6.000000</td>\n",
              "      <td>512.329200</td>\n",
              "    </tr>\n",
              "  </tbody>\n",
              "</table>\n",
              "</div>"
            ],
            "text/plain": [
              "       PassengerId    Survived      Pclass  ...       SibSp       Parch        Fare\n",
              "count   891.000000  891.000000  891.000000  ...  891.000000  891.000000  891.000000\n",
              "mean    446.000000    0.383838    2.308642  ...    0.523008    0.381594   32.204208\n",
              "std     257.353842    0.486592    0.836071  ...    1.102743    0.806057   49.693429\n",
              "min       1.000000    0.000000    1.000000  ...    0.000000    0.000000    0.000000\n",
              "25%     223.500000    0.000000    2.000000  ...    0.000000    0.000000    7.910400\n",
              "50%     446.000000    0.000000    3.000000  ...    0.000000    0.000000   14.454200\n",
              "75%     668.500000    1.000000    3.000000  ...    1.000000    0.000000   31.000000\n",
              "max     891.000000    1.000000    3.000000  ...    8.000000    6.000000  512.329200\n",
              "\n",
              "[8 rows x 7 columns]"
            ]
          },
          "metadata": {},
          "execution_count": 93
        }
      ]
    },
    {
      "cell_type": "code",
      "metadata": {
        "colab": {
          "base_uri": "https://localhost:8080/"
        },
        "id": "pIf2ySUmqo_u",
        "outputId": "4f929c4c-f7e3-4e31-8e97-7b1ec2ca1b34"
      },
      "source": [
        "df_train.info()"
      ],
      "execution_count": 94,
      "outputs": [
        {
          "output_type": "stream",
          "name": "stdout",
          "text": [
            "<class 'pandas.core.frame.DataFrame'>\n",
            "RangeIndex: 891 entries, 0 to 890\n",
            "Data columns (total 12 columns):\n",
            " #   Column       Non-Null Count  Dtype  \n",
            "---  ------       --------------  -----  \n",
            " 0   PassengerId  891 non-null    int64  \n",
            " 1   Survived     891 non-null    int64  \n",
            " 2   Pclass       891 non-null    int64  \n",
            " 3   Name         891 non-null    object \n",
            " 4   Sex          891 non-null    object \n",
            " 5   Age          714 non-null    float64\n",
            " 6   SibSp        891 non-null    int64  \n",
            " 7   Parch        891 non-null    int64  \n",
            " 8   Ticket       891 non-null    object \n",
            " 9   Fare         891 non-null    float64\n",
            " 10  Cabin        204 non-null    object \n",
            " 11  Embarked     889 non-null    object \n",
            "dtypes: float64(2), int64(5), object(5)\n",
            "memory usage: 83.7+ KB\n"
          ]
        }
      ]
    },
    {
      "cell_type": "code",
      "metadata": {
        "colab": {
          "base_uri": "https://localhost:8080/"
        },
        "id": "gqtJ8KNUqpOP",
        "outputId": "9cbab2ad-7afd-45b0-ba49-926bf0cccb0f"
      },
      "source": [
        "df_test.info()"
      ],
      "execution_count": 95,
      "outputs": [
        {
          "output_type": "stream",
          "name": "stdout",
          "text": [
            "<class 'pandas.core.frame.DataFrame'>\n",
            "RangeIndex: 418 entries, 0 to 417\n",
            "Data columns (total 11 columns):\n",
            " #   Column       Non-Null Count  Dtype  \n",
            "---  ------       --------------  -----  \n",
            " 0   PassengerId  418 non-null    int64  \n",
            " 1   Pclass       418 non-null    int64  \n",
            " 2   Name         418 non-null    object \n",
            " 3   Sex          418 non-null    object \n",
            " 4   Age          332 non-null    float64\n",
            " 5   SibSp        418 non-null    int64  \n",
            " 6   Parch        418 non-null    int64  \n",
            " 7   Ticket       418 non-null    object \n",
            " 8   Fare         417 non-null    float64\n",
            " 9   Cabin        91 non-null     object \n",
            " 10  Embarked     418 non-null    object \n",
            "dtypes: float64(2), int64(4), object(5)\n",
            "memory usage: 36.0+ KB\n"
          ]
        }
      ]
    },
    {
      "cell_type": "markdown",
      "metadata": {
        "id": "61Odvl51qxed"
      },
      "source": [
        "**Age, Cabin, Embarked and Fare have missing values which must be populated**"
      ]
    },
    {
      "cell_type": "code",
      "metadata": {
        "colab": {
          "base_uri": "https://localhost:8080/"
        },
        "id": "MAUCpmqku82t",
        "outputId": "e1005570-4deb-4838-b354-1c4b98fcf414"
      },
      "source": [
        "df_train.columns"
      ],
      "execution_count": 96,
      "outputs": [
        {
          "output_type": "execute_result",
          "data": {
            "text/plain": [
              "Index(['PassengerId', 'Survived', 'Pclass', 'Name', 'Sex', 'Age', 'SibSp',\n",
              "       'Parch', 'Ticket', 'Fare', 'Cabin', 'Embarked'],\n",
              "      dtype='object')"
            ]
          },
          "metadata": {},
          "execution_count": 96
        }
      ]
    },
    {
      "cell_type": "code",
      "metadata": {
        "id": "5ZT1V3Kwu79N"
      },
      "source": [
        "df_test = df_test.drop(['PassengerId'], axis=1)\n",
        "df_train = df_train.drop(['PassengerId'], axis=1)"
      ],
      "execution_count": 97,
      "outputs": []
    },
    {
      "cell_type": "code",
      "metadata": {
        "colab": {
          "base_uri": "https://localhost:8080/",
          "height": 352
        },
        "id": "fxPahIFV7DRK",
        "outputId": "e5de4d8a-402f-46b8-e058-03c400989978"
      },
      "source": [
        "sns.distplot(df_train['Fare'], kde=False)"
      ],
      "execution_count": 98,
      "outputs": [
        {
          "output_type": "stream",
          "name": "stderr",
          "text": [
            "/usr/local/lib/python3.7/dist-packages/seaborn/distributions.py:2619: FutureWarning: `distplot` is a deprecated function and will be removed in a future version. Please adapt your code to use either `displot` (a figure-level function with similar flexibility) or `histplot` (an axes-level function for histograms).\n",
            "  warnings.warn(msg, FutureWarning)\n"
          ]
        },
        {
          "output_type": "execute_result",
          "data": {
            "text/plain": [
              "<matplotlib.axes._subplots.AxesSubplot at 0x7fb36b287150>"
            ]
          },
          "metadata": {},
          "execution_count": 98
        },
        {
          "output_type": "display_data",
          "data": {
            "image/png": "[encoded data removed]",
            "text/plain": [
              "<Figure size 432x288 with 1 Axes>"
            ]
          },
          "metadata": {
            "needs_background": "light"
          }
        }
      ]
    },
    {
      "cell_type": "code",
      "metadata": {
        "colab": {
          "base_uri": "https://localhost:8080/",
          "height": 296
        },
        "id": "ISLrbWpK8D_2",
        "outputId": "fcdd7e1d-252c-409a-94ad-d904fd6c6a81"
      },
      "source": [
        "sns.boxplot(x='Pclass', y ='Age', data = df_train)"
      ],
      "execution_count": 99,
      "outputs": [
        {
          "output_type": "execute_result",
          "data": {
            "text/plain": [
              "<matplotlib.axes._subplots.AxesSubplot at 0x7fb36b164650>"
            ]
          },
          "metadata": {},
          "execution_count": 99
        },
        {
          "output_type": "display_data",
          "data": {
            "image/png": "[encoded data removed]",
            "text/plain": [
              "<Figure size 432x288 with 1 Axes>"
            ]
          },
          "metadata": {
            "needs_background": "light"
          }
        }
      ]
    },
    {
      "cell_type": "code",
      "metadata": {
        "colab": {
          "base_uri": "https://localhost:8080/",
          "height": 298
        },
        "id": "_1a94t8E-cKA",
        "outputId": "65ddfeee-ccc6-4a3e-f65d-5f89d8281f89"
      },
      "source": [
        "sns.countplot(x='Sex', data = df_train )"
      ],
      "execution_count": 100,
      "outputs": [
        {
          "output_type": "execute_result",
          "data": {
            "text/plain": [
              "<matplotlib.axes._subplots.AxesSubplot at 0x7fb36b0a49d0>"
            ]
          },
          "metadata": {},
          "execution_count": 100
        },
        {
          "output_type": "display_data",
          "data": {
            "image/png": "[encoded data removed]",
            "text/plain": [
              "<Figure size 432x288 with 1 Axes>"
            ]
          },
          "metadata": {
            "needs_background": "light"
          }
        }
      ]
    },
    {
      "cell_type": "code",
      "metadata": {
        "colab": {
          "base_uri": "https://localhost:8080/",
          "height": 728
        },
        "id": "ZVMOQ7ZKs7Vf",
        "outputId": "1427d4a5-0a2b-4451-c878-6130c7f01eef"
      },
      "source": [
        "g = sns.FacetGrid(data=df_train, col='Sex', row = 'Pclass')\n",
        "g.map(sns.distplot, 'Age',kde=False)"
      ],
      "execution_count": 101,
      "outputs": [
        {
          "output_type": "stream",
          "name": "stderr",
          "text": [
            "/usr/local/lib/python3.7/dist-packages/seaborn/distributions.py:2619: FutureWarning: `distplot` is a deprecated function and will be removed in a future version. Please adapt your code to use either `displot` (a figure-level function with similar flexibility) or `histplot` (an axes-level function for histograms).\n",
            "  warnings.warn(msg, FutureWarning)\n"
          ]
        },
        {
          "output_type": "execute_result",
          "data": {
            "text/plain": [
              "<seaborn.axisgrid.FacetGrid at 0x7fb36b0a40d0>"
            ]
          },
          "metadata": {},
          "execution_count": 101
        },
        {
          "output_type": "display_data",
          "data": {
            "image/png": "[encoded data removed]",
            "text/plain": [
              "<Figure size 432x648 with 6 Axes>"
            ]
          },
          "metadata": {
            "needs_background": "light"
          }
        }
      ]
    },
    {
      "cell_type": "code",
      "metadata": {
        "colab": {
          "base_uri": "https://localhost:8080/",
          "height": 296
        },
        "id": "kLKCKBuEkIij",
        "outputId": "9317979d-0989-4e17-b06a-a6cf95890202"
      },
      "source": [
        "embark_perc = df_train[[\"Embarked\", \"Survived\"]].groupby(['Embarked'],as_index=False).mean()\n",
        "\n",
        "sns.barplot(x='Embarked', y='Survived', data=embark_perc,order=['S','C','Q'])"
      ],
      "execution_count": 208,
      "outputs": [
        {
          "output_type": "execute_result",
          "data": {
            "text/plain": [
              "<matplotlib.axes._subplots.AxesSubplot at 0x7fb36ab5b750>"
            ]
          },
          "metadata": {},
          "execution_count": 208
        },
        {
          "output_type": "display_data",
          "data": {
            "image/png": "[encoded data removed]",
            "text/plain": [
              "<Figure size 432x288 with 1 Axes>"
            ]
          },
          "metadata": {
            "needs_background": "light"
          }
        }
      ]
    },
    {
      "cell_type": "code",
      "metadata": {
        "id": "2OM5guqus9Lh",
        "colab": {
          "base_uri": "https://localhost:8080/",
          "height": 298
        },
        "outputId": "dc758e87-4712-4b22-de5a-88bb0ebd4eab"
      },
      "source": [
        "tc = df_train.corr()\n",
        "sns.heatmap(tc, cmap='coolwarm')\n",
        "plt.title('Titanic Correlation')"
      ],
      "execution_count": 102,
      "outputs": [
        {
          "output_type": "execute_result",
          "data": {
            "text/plain": [
              "Text(0.5, 1.0, 'Titanic Correlation')"
            ]
          },
          "metadata": {},
          "execution_count": 102
        },
        {
          "output_type": "display_data",
          "data": {
            "image/png": "[encoded data removed]",
            "text/plain": [
              "<Figure size 432x288 with 2 Axes>"
            ]
          },
          "metadata": {
            "needs_background": "light"
          }
        }
      ]
    },
    {
      "cell_type": "code",
      "metadata": {
        "colab": {
          "base_uri": "https://localhost:8080/"
        },
        "id": "okPCeKFAg010",
        "outputId": "0fbbeff7-1bc4-49f7-932f-a4dbf420344f"
      },
      "source": [
        "for x in ['Pclass', 'Sex','SibSp','Parch']:\n",
        "    if df_train[x].dtype != 'float64' :\n",
        "        print('Survival Correlation by:', x)\n",
        "        print(df_train[[x, 'Survived']].groupby(x, as_index=False).mean())\n",
        "        print('-'*10, '\\n')\n",
        "        \n",
        "print(pd.crosstab(df_train['Title'],df_train['Survived']))"
      ],
      "execution_count": 204,
      "outputs": [
        {
          "output_type": "stream",
          "name": "stdout",
          "text": [
            "Survival Correlation by: Pclass\n",
            "   Pclass  Survived\n",
            "0       1  0.629630\n",
            "1       2  0.472826\n",
            "2       3  0.242363\n",
            "---------- \n",
            "\n",
            "Survival Correlation by: Sex\n",
            "      Sex  Survived\n",
            "0  female  0.742038\n",
            "1    male  0.188908\n",
            "---------- \n",
            "\n",
            "Survival Correlation by: SibSp\n",
            "   SibSp  Survived\n",
            "0      0  0.345395\n",
            "1      1  0.535885\n",
            "2      2  0.464286\n",
            "3      3  0.250000\n",
            "4      4  0.166667\n",
            "5      5  0.000000\n",
            "6      8  0.000000\n",
            "---------- \n",
            "\n",
            "Survival Correlation by: Parch\n",
            "   Parch  Survived\n",
            "0      0  0.343658\n",
            "1      1  0.550847\n",
            "2      2  0.500000\n",
            "3      3  0.600000\n",
            "4      4  0.000000\n",
            "5      5  0.200000\n",
            "6      6  0.000000\n",
            "---------- \n",
            "\n",
            "Survived        0    1\n",
            "Title                 \n",
            "Capt            1    0\n",
            "Col             1    1\n",
            "Don             1    0\n",
            "Dr              4    3\n",
            "Jonkheer        1    0\n",
            "Lady            0    1\n",
            "Major           1    1\n",
            "Master         17   23\n",
            "Miss           55  127\n",
            "Mlle            0    2\n",
            "Mme             0    1\n",
            "Mr            436   81\n",
            "Mrs            26   99\n",
            "Ms              0    1\n",
            "Rev             6    0\n",
            "Sir             0    1\n",
            "the Countess    0    1\n"
          ]
        }
      ]
    },
    {
      "cell_type": "code",
      "metadata": {
        "colab": {
          "base_uri": "https://localhost:8080/"
        },
        "id": "Lhjlrc6Lhx5s",
        "outputId": "bec50829-5e98-433b-8e4a-5cc185b79e6d"
      },
      "source": [
        ""
      ],
      "execution_count": 200,
      "outputs": [
        {
          "output_type": "execute_result",
          "data": {
            "text/plain": [
              "Index(['Pclass', 'Name', 'Sex', 'Age', 'SibSp', 'Parch', 'Ticket', 'Fare',\n",
              "       'Embarked', 'Title'],\n",
              "      dtype='object')"
            ]
          },
          "metadata": {},
          "execution_count": 200
        }
      ]
    },
    {
      "cell_type": "markdown",
      "metadata": {
        "id": "IptlDRZ_h7SV"
      },
      "source": [
        "#Data Cleaning and Feature *Engineering*"
      ]
    },
    {
      "cell_type": "markdown",
      "metadata": {
        "id": "-LKC3QPMliW5"
      },
      "source": [
        "**Creating a 'Title' variable from the Name column**"
      ]
    },
    {
      "cell_type": "code",
      "metadata": {
        "id": "KRLLB0CHh-c6"
      },
      "source": [
        "df_train['Title'] = df_train['Name'].str.split(', ', expand=True)[1].str.split('.', expand=True)[0]\n",
        "df_train['Title']= df_train['Title'].str.strip()\n",
        "\n",
        "df_test['Title'] = df_test['Name'].str.split(', ', expand=True)[1].str.split('.', expand=True)[0]\n",
        "df_test['Title']= df_test['Title'].str.strip()"
      ],
      "execution_count": 103,
      "outputs": []
    },
    {
      "cell_type": "code",
      "metadata": {
        "id": "WCnKpMPyh-8Q",
        "colab": {
          "base_uri": "https://localhost:8080/"
        },
        "outputId": "0c3c0876-864a-4edb-8eed-3a949db2fd0f"
      },
      "source": [
        "print('Train Titles')\n",
        "print(df_train['Title'].value_counts())\n",
        "print(20*'-')\n",
        "print('Test Titles')\n",
        "print(df_test['Title'].value_counts())"
      ],
      "execution_count": 104,
      "outputs": [
        {
          "output_type": "stream",
          "name": "stdout",
          "text": [
            "Train Titles\n",
            "Mr              517\n",
            "Miss            182\n",
            "Mrs             125\n",
            "Master           40\n",
            "Dr                7\n",
            "Rev               6\n",
            "Col               2\n",
            "Major             2\n",
            "Mlle              2\n",
            "Jonkheer          1\n",
            "Capt              1\n",
            "the Countess      1\n",
            "Don               1\n",
            "Ms                1\n",
            "Sir               1\n",
            "Lady              1\n",
            "Mme               1\n",
            "Name: Title, dtype: int64\n",
            "--------------------\n",
            "Test Titles\n",
            "Mr        240\n",
            "Miss       78\n",
            "Mrs        72\n",
            "Master     21\n",
            "Rev         2\n",
            "Col         2\n",
            "Dona        1\n",
            "Ms          1\n",
            "Dr          1\n",
            "Name: Title, dtype: int64\n"
          ]
        }
      ]
    },
    {
      "cell_type": "markdown",
      "metadata": {
        "id": "9QMCRL243P5D"
      },
      "source": [
        "**Counting Missing values**"
      ]
    },
    {
      "cell_type": "code",
      "metadata": {
        "colab": {
          "base_uri": "https://localhost:8080/"
        },
        "id": "6grOeuD03QkQ",
        "outputId": "e70577da-490a-4f5d-f723-1389ebcf70d6"
      },
      "source": [
        "for c in df_train.columns:\n",
        "    print('{}: {}'.format(c, df_train[c].isna().sum()))\n",
        "print(20*'-')\n",
        "for c in df_test.columns:\n",
        "    print('{}: {}'.format(c, df_test[c].isna().sum()))"
      ],
      "execution_count": 105,
      "outputs": [
        {
          "output_type": "stream",
          "name": "stdout",
          "text": [
            "Survived: 0\n",
            "Pclass: 0\n",
            "Name: 0\n",
            "Sex: 0\n",
            "Age: 177\n",
            "SibSp: 0\n",
            "Parch: 0\n",
            "Ticket: 0\n",
            "Fare: 0\n",
            "Cabin: 687\n",
            "Embarked: 2\n",
            "Title: 0\n",
            "--------------------\n",
            "Pclass: 0\n",
            "Name: 0\n",
            "Sex: 0\n",
            "Age: 86\n",
            "SibSp: 0\n",
            "Parch: 0\n",
            "Ticket: 0\n",
            "Fare: 1\n",
            "Cabin: 327\n",
            "Embarked: 0\n",
            "Title: 0\n"
          ]
        }
      ]
    },
    {
      "cell_type": "markdown",
      "metadata": {
        "id": "6mpBFWgB-37p"
      },
      "source": [
        "\n",
        "**Missing Fare**\n",
        "\n",
        "For the single missing fare in the test data we will take the mean value for the given embarked value as there is a large variance in fare based on embarked location\n"
      ]
    },
    {
      "cell_type": "code",
      "metadata": {
        "colab": {
          "base_uri": "https://localhost:8080/",
          "height": 294
        },
        "id": "kpcyVzOQEBrW",
        "outputId": "bf7208ba-7585-4afe-e1b8-5a2464387e74"
      },
      "source": [
        "df_test.groupby('Embarked')['Fare'].mean().plot(kind='bar')"
      ],
      "execution_count": 109,
      "outputs": [
        {
          "output_type": "execute_result",
          "data": {
            "text/plain": [
              "<matplotlib.axes._subplots.AxesSubplot at 0x7fb36adc2910>"
            ]
          },
          "metadata": {},
          "execution_count": 109
        },
        {
          "output_type": "display_data",
          "data": {
            "image/png": "[encoded data removed]",
            "text/plain": [
              "<Figure size 432x288 with 1 Axes>"
            ]
          },
          "metadata": {
            "needs_background": "light"
          }
        }
      ]
    },
    {
      "cell_type": "code",
      "metadata": {
        "id": "ozDueJCQ-ypH"
      },
      "source": [
        "df_test.loc[df_test['Fare'].isna(), 'Fare'] = df_test.groupby('Embarked')['Fare'].mean()['S']"
      ],
      "execution_count": 108,
      "outputs": []
    },
    {
      "cell_type": "markdown",
      "metadata": {
        "id": "uNUyOxXfRpLN"
      },
      "source": [
        "**Missing Embarked**\n",
        "\n",
        "For the missing embarked value we will do the opposite of fare, we will identify the closest embarked group based on the mean fare of each group."
      ]
    },
    {
      "cell_type": "code",
      "metadata": {
        "id": "krEXSYB-R5c2"
      },
      "source": [
        "embarked_fare_lookup = df_test.groupby('Embarked')['Fare'].mean()\n",
        "embarked_means = []\n",
        "embarked_dict = {}\n",
        "\n",
        "#Create variables for bi-directional lookup of means\n",
        "\n",
        "for i in embarked_fare_lookup.keys():\n",
        "  embarked_means.append(embarked_fare_lookup[i])\n",
        "  embarked_dict[embarked_fare_lookup[i]] = i\n",
        "\n",
        "#Find group closest to mean and assign.\n",
        "for index, row in df_train.loc[df_train['Embarked'].isna()].iterrows() :\n",
        "  print(df_train.loc[index,'Embarked'])\n",
        "  df_train.loc[index,'Embarked'] = embarked_dict[min(embarked_means, key=lambda x:abs(x-row['Fare']))]\n",
        "  print(df_train.loc[index,'Embarked'])\n"
      ],
      "execution_count": null,
      "outputs": []
    },
    {
      "cell_type": "markdown",
      "metadata": {
        "id": "ptSVVwyLnvhT"
      },
      "source": [
        "**Populating Missing Ages**\n",
        "\n",
        "We can utilise the new title variable to populate age based on mean age for the title group. This will hopefully give a more accurate result than using an overall mean or median."
      ]
    },
    {
      "cell_type": "code",
      "metadata": {
        "colab": {
          "base_uri": "https://localhost:8080/"
        },
        "id": "gn3zL70HlPtm",
        "outputId": "97801fa6-17f5-4910-8c36-ca979f17b330"
      },
      "source": [
        "#Create dictionary of median age per title.\n",
        "median_age_dict = {}\n",
        "for i in df_train['Title'].unique():\n",
        "    median_age_dict[i] = np.nanmedian(df_train['Age'].loc[df_train['Title'].isin([i])])\n",
        "    print('{} : {} '.format(i, median_age_dict[i]))"
      ],
      "execution_count": 175,
      "outputs": [
        {
          "output_type": "stream",
          "name": "stdout",
          "text": [
            "Mr : 30.0 \n",
            "Mrs : 35.0 \n",
            "Miss : 21.0 \n",
            "Master : 3.5 \n",
            "Don : 40.0 \n",
            "Rev : 46.5 \n",
            "Dr : 46.5 \n",
            "Mme : 24.0 \n",
            "Ms : 28.0 \n",
            "Major : 48.5 \n",
            "Lady : 48.0 \n",
            "Sir : 49.0 \n",
            "Mlle : 24.0 \n",
            "Col : 58.0 \n",
            "Capt : 70.0 \n",
            "the Countess : 33.0 \n",
            "Jonkheer : 38.0 \n"
          ]
        }
      ]
    },
    {
      "cell_type": "code",
      "metadata": {
        "id": "jZZypvVPpU6f"
      },
      "source": [
        "for i in pd.concat([  df_train['Title'], df_test['Title']]).unique():\n",
        "   if i in median_age_dict.keys():\n",
        "      cur_age = median_age_dict[i]\n",
        "   else:\n",
        "      cur_age = np.round(df_train['Age'].mean(), 0)\n",
        "\n",
        "   if df_train.loc[df_train['Title']==i, ['Age']].isnull().values.any():\n",
        "      df_train.loc[np.logical_and(df_train['Title']==i, df_train['Age'].isnull()), ['Age']] = cur_age\n",
        "   \n",
        "   if  df_test.loc[df_test['Title']==i, ['Age']].isnull().values.any():\n",
        "      df_test.loc[np.logical_and(df_test['Title']==i, df_test['Age'].isnull()), ['Age']] = cur_age\n"
      ],
      "execution_count": 176,
      "outputs": []
    },
    {
      "cell_type": "markdown",
      "metadata": {
        "id": "KLgSxwEpeMU0"
      },
      "source": [
        "As so many Cabin values are missing, we will simply drop cabin for now"
      ]
    },
    {
      "cell_type": "code",
      "metadata": {
        "id": "pIICvIQ9eSxh"
      },
      "source": [
        "df_train = df_train.drop('Cabin', 1)\n",
        "df_test = df_test.drop('Cabin', 1)"
      ],
      "execution_count": 180,
      "outputs": []
    },
    {
      "cell_type": "code",
      "metadata": {
        "colab": {
          "base_uri": "https://localhost:8080/"
        },
        "id": "EPPerdtcejSr",
        "outputId": "4e00007e-59f0-441c-aebc-10c316d33312"
      },
      "source": [
        "#Validate all missing ages are populated\n",
        "for c in df_train.columns:\n",
        "    print('{}: {}'.format(c, df_train[c].isna().sum()))\n",
        "print(20*'-')\n",
        "for c in df_test.columns:\n",
        "    print('{}: {}'.format(c, df_test[c].isna().sum()))"
      ],
      "execution_count": 181,
      "outputs": [
        {
          "output_type": "stream",
          "name": "stdout",
          "text": [
            "Survived: 0\n",
            "Pclass: 0\n",
            "Name: 0\n",
            "Sex: 0\n",
            "Age: 0\n",
            "SibSp: 0\n",
            "Parch: 0\n",
            "Ticket: 0\n",
            "Fare: 0\n",
            "Embarked: 0\n",
            "Title: 0\n",
            "--------------------\n",
            "Pclass: 0\n",
            "Name: 0\n",
            "Sex: 0\n",
            "Age: 0\n",
            "SibSp: 0\n",
            "Parch: 0\n",
            "Ticket: 0\n",
            "Fare: 0\n",
            "Embarked: 0\n",
            "Title: 0\n"
          ]
        }
      ]
    },
    {
      "cell_type": "markdown",
      "metadata": {
        "id": "Dwhm9eBTenHr"
      },
      "source": [
        "**Creating Family Size Variable**"
      ]
    },
    {
      "cell_type": "code",
      "metadata": {
        "id": "CQZ_z5vaequt"
      },
      "source": [
        ""
      ],
      "execution_count": null,
      "outputs": []
    },
    {
      "cell_type": "markdown",
      "metadata": {
        "id": "VZK7oARdh_E2"
      },
      "source": [
        "#Model Training and Evaluation"
      ]
    },
    {
      "cell_type": "code",
      "metadata": {
        "id": "zE1-AaFqiDZM"
      },
      "source": [
        ""
      ],
      "execution_count": 173,
      "outputs": []
    },
    {
      "cell_type": "code",
      "metadata": {
        "id": "7HbNJdCwr0yw"
      },
      "source": [
        ""
      ],
      "execution_count": 173,
      "outputs": []
    },
    {
      "cell_type": "code",
      "metadata": {
        "id": "0rl7UZCrrmEF"
      },
      "source": [
        ""
      ],
      "execution_count": null,
      "outputs": []
    }
  ]
}